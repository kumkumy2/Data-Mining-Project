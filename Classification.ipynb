{
 "cells": [
  {
   "cell_type": "code",
   "execution_count": 284,
   "metadata": {
    "collapsed": false,
    "deletable": true,
    "editable": true
   },
   "outputs": [
    {
     "name": "stdout",
     "output_type": "stream",
     "text": [
      "0    1140825600\n",
      "1    1140825600\n",
      "2    1140739200\n",
      "3    1140912000\n",
      "4    1140566400\n",
      "Name: film_date, dtype: int64\n",
      "0    1151367060\n",
      "1    1151367060\n",
      "2    1151367060\n",
      "3    1151367060\n",
      "4    1151440680\n",
      "Name: published_date, dtype: int64\n",
      "0    24-02-2006\n",
      "1    24-02-2006\n",
      "2    23-02-2006\n",
      "3    25-02-2006\n",
      "4    21-02-2006\n",
      "Name: film_date, dtype: object\n",
      "0    26-06-2006\n",
      "1    26-06-2006\n",
      "2    26-06-2006\n",
      "3    26-06-2006\n",
      "4    27-06-2006\n",
      "Name: published_date, dtype: object\n"
     ]
    }
   ],
   "source": [
    "%matplotlib inline\n",
    "import numpy as np\n",
    "import pandas as pd\n",
    "import datetime as dt\n",
    "from scipy import stats\n",
    "import matplotlib.pyplot as plt\n",
    "import seaborn as sns\n",
    "data = pd.read_csv ('C:/Users/garim/Documents/Projects/Data Mining Project/ted_main.csv')\n",
    "#print (data.columns)\n",
    "print (data['film_date'].head())\n",
    "print (data['published_date'].head())\n",
    "data['film_date'] =data['film_date'].apply(lambda x: dt.datetime.fromtimestamp( int(x)).strftime('%d-%m-%Y'))\n",
    "data['published_date'] = data['published_date'].apply(lambda x: dt.datetime.fromtimestamp( int(x)).strftime('%d-%m-%Y'))\n",
    "print (data['film_date'].head())\n",
    "print (data['published_date'].head())\n",
    "#data.head()"
   ]
  },
  {
   "cell_type": "code",
   "execution_count": 285,
   "metadata": {
    "collapsed": true,
    "deletable": true,
    "editable": true
   },
   "outputs": [],
   "source": [
    "import ast\n",
    "data['ratings'] = data['ratings'].apply(lambda x: ast.literal_eval(x))"
   ]
  },
  {
   "cell_type": "code",
   "execution_count": 286,
   "metadata": {
    "collapsed": true,
    "deletable": true,
    "editable": true
   },
   "outputs": [],
   "source": [
    "#Add Topic column in the dataset\n",
    "talk_topic = \"\"\n",
    "def topic_function(data_topic):\n",
    "    data_topic = sorted(data_topic, key=lambda k: k['count'])\n",
    "    return data_topic[0]['name']\n",
    "data['Topics']= data['ratings'].apply(topic_function)"
   ]
  },
  {
   "cell_type": "code",
   "execution_count": 287,
   "metadata": {
    "collapsed": true,
    "deletable": true,
    "editable": true
   },
   "outputs": [],
   "source": [
    "pos_or_neg = \"\"\n",
    "def pos_neg_function(rating):\n",
    "    i=rating\n",
    "    if (i=='Beautiful' or i=='Courageous' or i=='Funny' or i=='Informative' or i=='Ingenious' or i=='Inspiring' or i=='Jaw-dropping' or i=='Persuasive' ):\n",
    "        pos_or_neg=1\n",
    "    elif (i=='OK'):\n",
    "        pos_or_neg=0\n",
    "    else :\n",
    "        pos_or_neg=-1\n",
    "    return pos_or_neg\n",
    "data[\"sentiment\"] = data['Topics'].apply(pos_neg_function)"
   ]
  },
  {
   "cell_type": "code",
   "execution_count": 288,
   "metadata": {
    "collapsed": false,
    "deletable": true,
    "editable": true
   },
   "outputs": [
    {
     "name": "stdout",
     "output_type": "stream",
     "text": [
      "755399.0\n",
      "1124523.5\n",
      "1701743.0\n",
      "946344.0\n"
     ]
    }
   ],
   "source": [
    "#Calculating quartile ranges and means\n",
    "data = data.sort_values('views')\n",
    "mid = int(len(data)/2)\n",
    "k=list(data['views'])\n",
    "lowerQ = np.median(sorted(k[:mid]))\n",
    "median = np.median(sorted(k))\n",
    "upperQ = np.median(sorted(k[mid:]))\n",
    "iq_range = upperQ-lowerQ\n",
    "print(lowerQ)\n",
    "print(median)\n",
    "print(upperQ)\n",
    "print(iq_range)"
   ]
  },
  {
   "cell_type": "code",
   "execution_count": 289,
   "metadata": {
    "collapsed": false,
    "deletable": true,
    "editable": true
   },
   "outputs": [
    {
     "name": "stdout",
     "output_type": "stream",
     "text": [
      "47227110\n",
      "2543750\n"
     ]
    }
   ],
   "source": [
    "print(max(data['views']))\n",
    "def is_outlier(data):\n",
    "    if data > (median + (1.5* iq_range)) or data < (median - (1.5* iq_range)):\n",
    "        return True\n",
    "    else:\n",
    "        return False\n",
    "#apply the function to the original df:\n",
    "data.loc[:, 'outlier'] = data['views'].apply(is_outlier)\n",
    "#filter to only non-outliers:\n",
    "data = data[~(data.outlier)]\n",
    "data.head()\n",
    "len(data)\n",
    "print(max(data['views']))"
   ]
  },
  {
   "cell_type": "code",
   "execution_count": 290,
   "metadata": {
    "collapsed": false,
    "deletable": true,
    "editable": true
   },
   "outputs": [
    {
     "name": "stdout",
     "output_type": "stream",
     "text": [
      "707788.0\n",
      "1099370.98648\n",
      "1428575.0\n",
      "720787.0\n"
     ]
    }
   ],
   "source": [
    "data = data.sort_values('views')\n",
    "mid = int(len(data)/2)\n",
    "k=list(data['views'])\n",
    "lowerQ = np.median(sorted(k[:mid]))\n",
    "mean = np.mean(sorted(k))\n",
    "upperQ = np.median(sorted(k[mid:]))\n",
    "iq_range = upperQ-lowerQ\n",
    "print(lowerQ)\n",
    "print(mean)\n",
    "print(upperQ)\n",
    "print(iq_range)"
   ]
  },
  {
   "cell_type": "code",
   "execution_count": 291,
   "metadata": {
    "collapsed": false,
    "deletable": true,
    "editable": true
   },
   "outputs": [
    {
     "name": "stdout",
     "output_type": "stream",
     "text": [
      "-1    1232\n",
      " 1     987\n",
      "Name: views_based, dtype: int64\n"
     ]
    },
    {
     "data": {
      "text/plain": [
       "Index(['speaker_occupation'], dtype='object')"
      ]
     },
     "execution_count": 291,
     "metadata": {},
     "output_type": "execute_result"
    }
   ],
   "source": [
    "def views_function(data_views):\n",
    "    if(data_views<=mean):\n",
    "            return(-1)\n",
    "    else:\n",
    "            return(1)\n",
    "data[\"views_based\"] = data['views'].apply(views_function)\n",
    "print (data[\"views_based\"].value_counts())\n",
    "data.columns[data.isnull().any()]"
   ]
  },
  {
   "cell_type": "code",
   "execution_count": 292,
   "metadata": {
    "collapsed": true,
    "deletable": true,
    "editable": true
   },
   "outputs": [],
   "source": [
    "data.to_csv('ted_main_1.csv', sep=',',encoding='utf-8')"
   ]
  },
  {
   "cell_type": "code",
   "execution_count": 293,
   "metadata": {
    "collapsed": true,
    "deletable": true,
    "editable": true
   },
   "outputs": [],
   "source": [
    "#classification for views_based\n",
    "from sklearn.model_selection import train_test_split\n",
    "predictors = data.drop(['views','views_based','Topics','published_date','film_date','comments','description','event','main_speaker','name','ratings','related_talks','speaker_occupation','tags','title','url'], axis=1)\n",
    "target = data[\"views_based\"]\n",
    "x_train, x_val, y_train, y_val = train_test_split(predictors, target, test_size = 0.22, random_state = 1)"
   ]
  },
  {
   "cell_type": "code",
   "execution_count": 294,
   "metadata": {
    "collapsed": true,
    "deletable": true,
    "editable": true
   },
   "outputs": [],
   "source": [
    "import itertools\n",
    "def plot_confusion_matrix(cm, classes,\n",
    "                          normalize=False,\n",
    "                          title='Confusion matrix',\n",
    "                          cmap=plt.cm.Blues):\n",
    "    \"\"\"\n",
    "    This function prints and plots the confusion matrix.\n",
    "    Normalization can be applied by setting `normalize=True`.\n",
    "    \"\"\"\n",
    "    if normalize:\n",
    "        cm = cm.astype('float') / cm.sum(axis=1)[:, np.newaxis]\n",
    "        print(\"Normalized confusion matrix\")\n",
    "    else:\n",
    "        print('Confusion matrix')\n",
    "\n",
    "    print(cm)\n",
    "\n",
    "    plt.imshow(cm, interpolation='nearest', cmap=cmap)\n",
    "    plt.title(title)\n",
    "    plt.colorbar()\n",
    "    tick_marks = np.arange(len(classes))\n",
    "    plt.xticks(tick_marks, classes, rotation=45)\n",
    "    plt.yticks(tick_marks, classes)\n",
    "\n",
    "    fmt = '.2f' if normalize else 'd'\n",
    "    thresh = cm.max() / 2.\n",
    "    for i, j in itertools.product(range(cm.shape[0]), range(cm.shape[1])):\n",
    "        plt.text(j, i, format(cm[i, j], fmt),\n",
    "                 horizontalalignment=\"center\",\n",
    "                 color=\"white\" if cm[i, j] > thresh else \"black\")\n",
    "\n",
    "    plt.tight_layout()\n",
    "    plt.ylabel('True label')\n",
    "    plt.xlabel('Predicted label')"
   ]
  },
  {
   "cell_type": "code",
   "execution_count": 295,
   "metadata": {
    "collapsed": false,
    "deletable": true,
    "editable": true
   },
   "outputs": [
    {
     "name": "stdout",
     "output_type": "stream",
     "text": [
      "56.44\n",
      "Confusion matrix\n",
      "[[ 87 198]\n",
      " [ 15 189]]\n",
      "Precision : 0.488372093023\n",
      "Recall : 0.926470588235\n",
      "F measure : 0.639593908629\n"
     ]
    },
    {
     "data": {
      "image/png": "[encoded data removed]",
      "text/plain": [
       "<matplotlib.figure.Figure at 0x168d46cd8d0>"
      ]
     },
     "metadata": {},
     "output_type": "display_data"
    },
    {
     "data": {
      "text/plain": [
       "<matplotlib.figure.Figure at 0x168cc151ef0>"
      ]
     },
     "metadata": {},
     "output_type": "display_data"
    }
   ],
   "source": [
    "# Gaussian Naive Bayes\n",
    "from sklearn.naive_bayes import GaussianNB\n",
    "from sklearn.metrics import accuracy_score\n",
    "from sklearn.metrics import confusion_matrix\n",
    "from sklearn.metrics import average_precision_score\n",
    "from sklearn.preprocessing import label_binarize\n",
    "from sklearn.metrics import precision_score\n",
    "from sklearn.metrics import recall_score\n",
    "from sklearn.metrics import f1_score\n",
    "import matplotlib.pyplot as plt\n",
    "gaussian = GaussianNB()\n",
    "gaussian.fit(x_train, y_train)\n",
    "y_pred = gaussian.predict(x_val)\n",
    "acc_gaussian = round(accuracy_score(y_pred, y_val) * 100, 2)\n",
    "print(acc_gaussian)\n",
    "cnf_matrix=confusion_matrix(y_val,y_pred)\n",
    "plot_confusion_matrix(cnf_matrix,classes=['-1','1'],\n",
    "                      title='Confusion matrix for views Naive Bayes')\n",
    "plt.figure()\n",
    "#y_val = label_binarize(y_val, classes=[-1,1])\n",
    "precision = precision_score(y_val,y_pred)\n",
    "recall=recall_score(y_val,y_pred)\n",
    "fscore = f1_score(y_val,y_pred)\n",
    "print(\"Precision : \" + str(precision))\n",
    "print(\"Recall : \"+ str(recall))\n",
    "print(\"F measure : \" + str(fscore))"
   ]
  },
  {
   "cell_type": "code",
   "execution_count": 296,
   "metadata": {
    "collapsed": false,
    "deletable": true,
    "editable": true
   },
   "outputs": [
    {
     "name": "stdout",
     "output_type": "stream",
     "text": [
      "60.74\n",
      "Confusion matrix\n",
      "[[213  72]\n",
      " [120  84]]\n",
      "Precision : 0.538461538462\n",
      "Recall : 0.411764705882\n",
      "F measure : 0.466666666667\n"
     ]
    },
    {
     "data": {
      "text/plain": [
       "<matplotlib.figure.Figure at 0x168d401d358>"
      ]
     },
     "execution_count": 296,
     "metadata": {},
     "output_type": "execute_result"
    },
    {
     "data": {
      "image/png": "[encoded data removed]",
      "text/plain": [
       "<matplotlib.figure.Figure at 0x168d46cd5c0>"
      ]
     },
     "metadata": {},
     "output_type": "display_data"
    },
    {
     "data": {
      "text/plain": [
       "<matplotlib.figure.Figure at 0x168d401d358>"
      ]
     },
     "metadata": {},
     "output_type": "display_data"
    }
   ],
   "source": [
    "# Support Vector Machines\n",
    "from sklearn.svm import SVC\n",
    "\n",
    "svc = SVC()\n",
    "svc.fit(x_train, y_train)\n",
    "y_pred = svc.predict(x_val)\n",
    "acc_svc = round(accuracy_score(y_pred, y_val) * 100, 2)\n",
    "print(acc_svc)\n",
    "cnf_matrix=confusion_matrix(y_val,y_pred)\n",
    "plot_confusion_matrix(cnf_matrix,classes=['-1','1'],\n",
    "                      title='Confusion matrix for views SVM')\n",
    "precision = precision_score(y_val,y_pred)\n",
    "recall=recall_score(y_val,y_pred)\n",
    "fscore = f1_score(y_val,y_pred)\n",
    "print(\"Precision : \" + str(precision))\n",
    "print(\"Recall : \"+ str(recall))\n",
    "print(\"F measure : \" + str(fscore))\n",
    "plt.figure()"
   ]
  },
  {
   "cell_type": "code",
   "execution_count": 297,
   "metadata": {
    "collapsed": false,
    "deletable": true,
    "editable": true
   },
   "outputs": [
    {
     "name": "stdout",
     "output_type": "stream",
     "text": [
      "62.58\n",
      "Confusion matrix\n",
      "[[198  87]\n",
      " [ 96 108]]\n",
      "Precision : 0.553846153846\n",
      "Recall : 0.529411764706\n",
      "F measure : 0.541353383459\n"
     ]
    },
    {
     "data": {
      "text/plain": [
       "<matplotlib.figure.Figure at 0x168cfbede10>"
      ]
     },
     "execution_count": 297,
     "metadata": {},
     "output_type": "execute_result"
    },
    {
     "data": {
      "image/png": "[encoded data removed]",
      "text/plain": [
       "<matplotlib.figure.Figure at 0x168d3bfc710>"
      ]
     },
     "metadata": {},
     "output_type": "display_data"
    },
    {
     "data": {
      "text/plain": [
       "<matplotlib.figure.Figure at 0x168cfbede10>"
      ]
     },
     "metadata": {},
     "output_type": "display_data"
    }
   ],
   "source": [
    "# Logistic Regression\n",
    "from sklearn.linear_model import LogisticRegression\n",
    "\n",
    "logreg = LogisticRegression()\n",
    "logreg.fit(x_train, y_train)\n",
    "y_pred = logreg.predict(x_val)\n",
    "acc_logreg = round(accuracy_score(y_pred, y_val) * 100, 2)\n",
    "print(acc_logreg)\n",
    "cnf_matrix=confusion_matrix(y_val,y_pred)\n",
    "plot_confusion_matrix(cnf_matrix,classes=['-1','1'],\n",
    "                      title='Confusion matrix for views Logistic regression')\n",
    "precision = precision_score(y_val,y_pred)\n",
    "recall=recall_score(y_val,y_pred)\n",
    "fscore = f1_score(y_val,y_pred)\n",
    "print(\"Precision : \" + str(precision))\n",
    "print(\"Recall : \"+ str(recall))\n",
    "print(\"F measure : \" + str(fscore))\n",
    "plt.figure()"
   ]
  },
  {
   "cell_type": "code",
   "execution_count": 298,
   "metadata": {
    "collapsed": false,
    "deletable": true,
    "editable": true
   },
   "outputs": [
    {
     "name": "stdout",
     "output_type": "stream",
     "text": [
      "57.87\n",
      "Confusion matrix\n",
      "[[167 118]\n",
      " [ 88 116]]\n",
      "Precision : 0.495726495726\n",
      "Recall : 0.56862745098\n",
      "F measure : 0.529680365297\n"
     ]
    },
    {
     "data": {
      "text/plain": [
       "<matplotlib.figure.Figure at 0x168caaa5320>"
      ]
     },
     "execution_count": 298,
     "metadata": {},
     "output_type": "execute_result"
    },
    {
     "data": {
      "image/png": "[encoded data removed]",
      "text/plain": [
       "<matplotlib.figure.Figure at 0x168cc1c8860>"
      ]
     },
     "metadata": {},
     "output_type": "display_data"
    },
    {
     "data": {
      "text/plain": [
       "<matplotlib.figure.Figure at 0x168caaa5320>"
      ]
     },
     "metadata": {},
     "output_type": "display_data"
    }
   ],
   "source": [
    "# KNN or k-Nearest Neighbors\n",
    "from sklearn.neighbors import KNeighborsClassifier\n",
    "\n",
    "knn = KNeighborsClassifier()\n",
    "knn.fit(x_train, y_train)\n",
    "y_pred = knn.predict(x_val)\n",
    "acc_knn = round(accuracy_score(y_pred, y_val) * 100, 2)\n",
    "print(acc_knn)\n",
    "cnf_matrix=confusion_matrix(y_val,y_pred)\n",
    "plot_confusion_matrix(cnf_matrix,classes=['-1','1'],\n",
    "                      title='Confusion matrix for views KNN')\n",
    "precision = precision_score(y_val,y_pred)\n",
    "recall=recall_score(y_val,y_pred)\n",
    "fscore = f1_score(y_val,y_pred)\n",
    "print(\"Precision : \" + str(precision))\n",
    "print(\"Recall : \"+ str(recall))\n",
    "print(\"F measure : \" + str(fscore))\n",
    "plt.figure()"
   ]
  },
  {
   "cell_type": "code",
   "execution_count": 299,
   "metadata": {
    "collapsed": false,
    "deletable": true,
    "editable": true
   },
   "outputs": [
    {
     "name": "stdout",
     "output_type": "stream",
     "text": [
      "59.1\n"
     ]
    }
   ],
   "source": [
    "# Random Forest\n",
    "from sklearn.ensemble import RandomForestClassifier\n",
    "\n",
    "randomforest = RandomForestClassifier()\n",
    "randomforest.fit(x_train, y_train)\n",
    "y_pred = randomforest.predict(x_val)\n",
    "acc_randomforest = round(accuracy_score(y_pred, y_val) * 100, 2)\n",
    "print(acc_randomforest)"
   ]
  },
  {
   "cell_type": "code",
   "execution_count": 300,
   "metadata": {
    "collapsed": false,
    "deletable": true,
    "editable": true
   },
   "outputs": [
    {
     "data": {
      "text/html": [
       "<div>\n",
       "<style scoped>\n",
       "    .dataframe tbody tr th:only-of-type {\n",
       "        vertical-align: middle;\n",
       "    }\n",
       "\n",
       "    .dataframe tbody tr th {\n",
       "        vertical-align: top;\n",
       "    }\n",
       "\n",
       "    .dataframe thead th {\n",
       "        text-align: right;\n",
       "    }\n",
       "</style>\n",
       "<table border=\"1\" class=\"dataframe\">\n",
       "  <thead>\n",
       "    <tr style=\"text-align: right;\">\n",
       "      <th></th>\n",
       "      <th>Model</th>\n",
       "      <th>Score</th>\n",
       "    </tr>\n",
       "  </thead>\n",
       "  <tbody>\n",
       "    <tr>\n",
       "      <th>2</th>\n",
       "      <td>Logistic Regression</td>\n",
       "      <td>62.58</td>\n",
       "    </tr>\n",
       "    <tr>\n",
       "      <th>0</th>\n",
       "      <td>Support Vector Machines</td>\n",
       "      <td>60.74</td>\n",
       "    </tr>\n",
       "    <tr>\n",
       "      <th>1</th>\n",
       "      <td>KNN</td>\n",
       "      <td>57.87</td>\n",
       "    </tr>\n",
       "    <tr>\n",
       "      <th>3</th>\n",
       "      <td>Naive Bayes</td>\n",
       "      <td>56.44</td>\n",
       "    </tr>\n",
       "  </tbody>\n",
       "</table>\n",
       "</div>"
      ],
      "text/plain": [
       "                     Model  Score\n",
       "2      Logistic Regression  62.58\n",
       "0  Support Vector Machines  60.74\n",
       "1                      KNN  57.87\n",
       "3              Naive Bayes  56.44"
      ]
     },
     "execution_count": 300,
     "metadata": {},
     "output_type": "execute_result"
    }
   ],
   "source": [
    "models = pd.DataFrame({\n",
    "    'Model': ['Support Vector Machines', 'KNN', 'Logistic Regression',  'Naive Bayes'],\n",
    "    'Score': [acc_svc, acc_knn, acc_logreg, acc_gaussian]})\n",
    "models.sort_values(by='Score', ascending=False)"
   ]
  },
  {
   "cell_type": "code",
   "execution_count": 315,
   "metadata": {
    "collapsed": true,
    "deletable": true,
    "editable": true
   },
   "outputs": [],
   "source": [
    "#classification for comments\n",
    "from sklearn.model_selection import train_test_split\n",
    "predictors = data.drop(['sentiment','Topics','published_date','film_date','description','event','main_speaker','name','ratings','related_talks','speaker_occupation','tags','title','url'], axis=1)\n",
    "target = data[\"sentiment\"]\n",
    "\n",
    "x_train, x_val, y_train, y_val = train_test_split(predictors, target, test_size = 0.22, random_state = 1)"
   ]
  },
  {
   "cell_type": "code",
   "execution_count": 326,
   "metadata": {
    "collapsed": false,
    "deletable": true,
    "editable": true
   },
   "outputs": [
    {
     "name": "stdout",
     "output_type": "stream",
     "text": [
      "57.87\n",
      "Confusion matrix\n",
      "[[260   2  16]\n",
      " [  1   0   0]\n",
      " [187   0  23]]\n",
      "Precision : 0.583201307895\n",
      "Recall : 0.578732106339\n",
      "F measure : 0.486530957103\n"
     ]
    },
    {
     "data": {
      "text/plain": [
       "<matplotlib.figure.Figure at 0x168d68fbeb8>"
      ]
     },
     "execution_count": 326,
     "metadata": {},
     "output_type": "execute_result"
    },
    {
     "data": {
      "image/png": "[encoded data removed]",
      "text/plain": [
       "<matplotlib.figure.Figure at 0x168d6916278>"
      ]
     },
     "metadata": {},
     "output_type": "display_data"
    },
    {
     "data": {
      "text/plain": [
       "<matplotlib.figure.Figure at 0x168d68fbeb8>"
      ]
     },
     "metadata": {},
     "output_type": "display_data"
    }
   ],
   "source": [
    "# Gaussian Naive Bayes\n",
    "from sklearn.naive_bayes import GaussianNB\n",
    "from sklearn.metrics import accuracy_score\n",
    "\n",
    "gaussian = GaussianNB()\n",
    "gaussian.fit(x_train, y_train)\n",
    "y_pred = gaussian.predict(x_val)\n",
    "acc_gaussian = round(accuracy_score(y_pred, y_val) * 100, 2)\n",
    "print(acc_gaussian)\n",
    "cnf_matrix=confusion_matrix(y_val,y_pred)\n",
    "plot_confusion_matrix(cnf_matrix,classes=[\"Neagtive\",\"Neutral\",\"Positive\"],\n",
    "                      title='Confusion matrix for rated as Naive Bayes')\n",
    "#y_val = label_binarize(y_val, classes=[-1,0,1])\n",
    "precision = precision_score(y_val,y_pred,average='weighted')\n",
    "recall=recall_score(y_val,y_pred,average='weighted')\n",
    "fscore = f1_score(y_val,y_pred,average='weighted')\n",
    "print(\"Precision : \" + str(precision))\n",
    "print(\"Recall : \"+ str(recall))\n",
    "print(\"F measure : \" + str(fscore))\n",
    "plt.figure()"
   ]
  },
  {
   "cell_type": "code",
   "execution_count": 336,
   "metadata": {
    "collapsed": false,
    "deletable": true,
    "editable": true
   },
   "outputs": [
    {
     "name": "stdout",
     "output_type": "stream",
     "text": [
      "56.85\n",
      "[[278   0   0]\n",
      " [  1   0   0]\n",
      " [210   0   0]]\n",
      "Confusion matrix\n",
      "[[278   0   0]\n",
      " [  1   0   0]\n",
      " [210   0   0]]\n",
      "Precision : 0.323200388088\n",
      "Recall : 0.568507157464\n",
      "F measure : 0.412112098501\n"
     ]
    },
    {
     "name": "stderr",
     "output_type": "stream",
     "text": [
      "C:\\Users\\garim\\Anaconda3\\lib\\site-packages\\sklearn\\metrics\\classification.py:1135: UndefinedMetricWarning: Precision is ill-defined and being set to 0.0 in labels with no predicted samples.\n",
      "  'precision', 'predicted', average, warn_for)\n",
      "C:\\Users\\garim\\Anaconda3\\lib\\site-packages\\sklearn\\metrics\\classification.py:1135: UndefinedMetricWarning: F-score is ill-defined and being set to 0.0 in labels with no predicted samples.\n",
      "  'precision', 'predicted', average, warn_for)\n"
     ]
    },
    {
     "data": {
      "text/plain": [
       "<matplotlib.figure.Figure at 0x168cc14e0b8>"
      ]
     },
     "execution_count": 336,
     "metadata": {},
     "output_type": "execute_result"
    },
    {
     "data": {
      "image/png": "[encoded data removed]",
      "text/plain": [
       "<matplotlib.figure.Figure at 0x168ce7d5b00>"
      ]
     },
     "metadata": {},
     "output_type": "display_data"
    },
    {
     "data": {
      "text/plain": [
       "<matplotlib.figure.Figure at 0x168cc14e0b8>"
      ]
     },
     "metadata": {},
     "output_type": "display_data"
    }
   ],
   "source": [
    "# Support Vector Machines\n",
    "from sklearn.svm import SVC\n",
    "\n",
    "svc = SVC()\n",
    "svc.fit(x_train, y_train)\n",
    "y_pred = svc.predict(x_val)\n",
    "acc_svc = round(accuracy_score(y_pred, y_val) * 100, 2)\n",
    "print(acc_svc)\n",
    "cnf_matrix=confusion_matrix(y_val,y_pred)\n",
    "print(cnf_matrix)\n",
    "plot_confusion_matrix(cnf_matrix,classes=[\"Neagtive\",\"Neutral\",\"Positive\"],\n",
    "                      title='Confusion matrix for rated as SVM')\n",
    "precision = precision_score(y_val,y_pred,average='weighted')\n",
    "recall=recall_score(y_val,y_pred,average='weighted')\n",
    "fscore = f1_score(y_val,y_pred,average='weighted')\n",
    "print(\"Precision : \" + str(precision))\n",
    "print(\"Recall : \"+ str(recall))\n",
    "print(\"F measure : \" + str(fscore))\n",
    "plt.figure()"
   ]
  },
  {
   "cell_type": "code",
   "execution_count": 337,
   "metadata": {
    "collapsed": false,
    "deletable": true,
    "editable": true
   },
   "outputs": [
    {
     "name": "stdout",
     "output_type": "stream",
     "text": [
      "56.24\n",
      "Confusion matrix\n",
      "[[268   0  10]\n",
      " [  1   0   0]\n",
      " [203   0   7]]\n",
      "Precision : 0.499627905649\n",
      "Recall : 0.562372188139\n",
      "F measure : 0.432778885856\n"
     ]
    },
    {
     "name": "stderr",
     "output_type": "stream",
     "text": [
      "C:\\Users\\garim\\Anaconda3\\lib\\site-packages\\sklearn\\metrics\\classification.py:1135: UndefinedMetricWarning: Precision is ill-defined and being set to 0.0 in labels with no predicted samples.\n",
      "  'precision', 'predicted', average, warn_for)\n",
      "C:\\Users\\garim\\Anaconda3\\lib\\site-packages\\sklearn\\metrics\\classification.py:1135: UndefinedMetricWarning: F-score is ill-defined and being set to 0.0 in labels with no predicted samples.\n",
      "  'precision', 'predicted', average, warn_for)\n"
     ]
    },
    {
     "data": {
      "text/plain": [
       "<matplotlib.figure.Figure at 0x168cad17a58>"
      ]
     },
     "execution_count": 337,
     "metadata": {},
     "output_type": "execute_result"
    },
    {
     "data": {
      "image/png": "[encoded data removed]",
      "text/plain": [
       "<matplotlib.figure.Figure at 0x168d4656048>"
      ]
     },
     "metadata": {},
     "output_type": "display_data"
    },
    {
     "data": {
      "text/plain": [
       "<matplotlib.figure.Figure at 0x168cad17a58>"
      ]
     },
     "metadata": {},
     "output_type": "display_data"
    }
   ],
   "source": [
    "# Logistic Regression\n",
    "from sklearn.linear_model import LogisticRegression\n",
    "\n",
    "logreg = LogisticRegression()\n",
    "logreg.fit(x_train, y_train)\n",
    "y_pred = logreg.predict(x_val)\n",
    "acc_logreg = round(accuracy_score(y_pred, y_val) * 100, 2)\n",
    "print(acc_logreg)\n",
    "cnf_matrix=confusion_matrix(y_val,y_pred)\n",
    "plot_confusion_matrix(cnf_matrix,classes=[\"Neagtive\",\"Neutral\",\"Positive\"],\n",
    "                      title='Confusion matrix for rated as Logistic Regression')\n",
    "precision = precision_score(y_val,y_pred,average='weighted')\n",
    "recall=recall_score(y_val,y_pred,average='weighted')\n",
    "fscore = f1_score(y_val,y_pred,average='weighted')\n",
    "print(\"Precision : \" + str(precision))\n",
    "print(\"Recall : \"+ str(recall))\n",
    "print(\"F measure : \" + str(fscore))\n",
    "plt.figure()"
   ]
  },
  {
   "cell_type": "code",
   "execution_count": 338,
   "metadata": {
    "collapsed": false,
    "deletable": true,
    "editable": true
   },
   "outputs": [
    {
     "name": "stdout",
     "output_type": "stream",
     "text": [
      "55.62\n",
      "Confusion matrix\n",
      "[[203   0  75]\n",
      " [  1   0   0]\n",
      " [141   0  69]]\n",
      "Precision : 0.54029000326\n",
      "Recall : 0.556237218814\n",
      "F measure : 0.537899685287\n"
     ]
    },
    {
     "name": "stderr",
     "output_type": "stream",
     "text": [
      "C:\\Users\\garim\\Anaconda3\\lib\\site-packages\\sklearn\\metrics\\classification.py:1135: UndefinedMetricWarning: Precision is ill-defined and being set to 0.0 in labels with no predicted samples.\n",
      "  'precision', 'predicted', average, warn_for)\n",
      "C:\\Users\\garim\\Anaconda3\\lib\\site-packages\\sklearn\\metrics\\classification.py:1135: UndefinedMetricWarning: F-score is ill-defined and being set to 0.0 in labels with no predicted samples.\n",
      "  'precision', 'predicted', average, warn_for)\n"
     ]
    },
    {
     "data": {
      "text/plain": [
       "<matplotlib.figure.Figure at 0x168d625a160>"
      ]
     },
     "execution_count": 338,
     "metadata": {},
     "output_type": "execute_result"
    },
    {
     "data": {
      "image/png": "[encoded data removed]",
      "text/plain": [
       "<matplotlib.figure.Figure at 0x168ce4da7b8>"
      ]
     },
     "metadata": {},
     "output_type": "display_data"
    },
    {
     "data": {
      "text/plain": [
       "<matplotlib.figure.Figure at 0x168d625a160>"
      ]
     },
     "metadata": {},
     "output_type": "display_data"
    }
   ],
   "source": [
    "# KNN or k-Nearest Neighbors\n",
    "from sklearn.neighbors import KNeighborsClassifier\n",
    "\n",
    "knn = KNeighborsClassifier()\n",
    "knn.fit(x_train, y_train)\n",
    "y_pred = knn.predict(x_val)\n",
    "acc_knn = round(accuracy_score(y_pred, y_val) * 100, 2)\n",
    "print(acc_knn)\n",
    "cnf_matrix=confusion_matrix(y_val,y_pred)\n",
    "plot_confusion_matrix(cnf_matrix,classes=[\"Neagtive\",\"Neutral\",\"Positive\"],\n",
    "                      title='Confusion matrix for rated as KNN')\n",
    "precision = precision_score(y_val,y_pred,average='weighted')\n",
    "recall=recall_score(y_val,y_pred,average='weighted')\n",
    "fscore = f1_score(y_val,y_pred,average='weighted')\n",
    "print(\"Precision : \" + str(precision))\n",
    "print(\"Recall : \"+ str(recall))\n",
    "print(\"F measure : \" + str(fscore))\n",
    "plt.figure()"
   ]
  },
  {
   "cell_type": "code",
   "execution_count": null,
   "metadata": {
    "collapsed": true,
    "deletable": true,
    "editable": true
   },
   "outputs": [],
   "source": [
    "# Random Forest\n",
    "from sklearn.ensemble import RandomForestClassifier\n",
    "\n",
    "randomforest = RandomForestClassifier()\n",
    "randomforest.fit(x_train, y_train)\n",
    "y_pred = randomforest.predict(x_val)\n",
    "acc_randomforest = round(accuracy_score(y_pred, y_val) * 100, 2)\n",
    "print(acc_randomforest)"
   ]
  },
  {
   "cell_type": "code",
   "execution_count": null,
   "metadata": {
    "collapsed": true,
    "deletable": true,
    "editable": true
   },
   "outputs": [],
   "source": [
    "def visualize_tree(tree, feature_names):\n",
    "    \"\"\"Create tree png using graphviz.\n",
    "\n",
    "    Args\n",
    "    ----\n",
    "    tree -- scikit-learn DecsisionTree.\n",
    "    feature_names -- list of feature names.\n",
    "    \"\"\"\n",
    "    with open(\"dt.dot\", 'w') as f:\n",
    "        export_graphviz(tree, out_file=f,\n",
    "                        feature_names=feature_names)\n",
    "\n",
    "    command = [\"dot\", \"-Tpng\", \"dt.dot\", \"-o\", \"dt.png\"]\n",
    "    try:\n",
    "        subprocess.check_call(command)\n",
    "    except:\n",
    "        exit(\"Could not run dot, ie graphviz, to \"\n",
    "             \"produce visualization\")\n"
   ]
  },
  {
   "cell_type": "code",
   "execution_count": null,
   "metadata": {
    "collapsed": true,
    "deletable": true,
    "editable": true
   },
   "outputs": [],
   "source": [
    "#Decision Tree\n",
    "from sklearn.tree import DecisionTreeClassifier, export_graphviz\n",
    "from sklearn.externals.six import StringIO  \n",
    "from IPython.display import Image  \n",
    "from sklearn.tree import export_graphviz\n",
    "import pydotplus\n",
    "\n",
    "decisiontree = DecisionTreeClassifier()\n",
    "decisiontree.fit(x_train, y_train)\n",
    "y_pred = decisiontree.predict(x_val)\n",
    "acc_decisiontree = round(accuracy_score(y_pred, y_val) * 100, 2)\n",
    "print(acc_decisiontree)\n"
   ]
  },
  {
   "cell_type": "code",
   "execution_count": null,
   "metadata": {
    "collapsed": true,
    "deletable": true,
    "editable": true
   },
   "outputs": [],
   "source": [
    "models = pd.DataFrame({\n",
    "    'Model': ['Support Vector Machines', 'KNN', 'Logistic Regression',  'Naive Bayes'],\n",
    "    'Score': [acc_svc, acc_knn, acc_logreg, acc_gaussian]})\n",
    "models.sort_values(by='Score', ascending=False)"
   ]
  }
 ],
 "metadata": {
  "kernelspec": {
   "display_name": "Python 3",
   "language": "python",
   "name": "python3"
  },
  "language_info": {
   "codemirror_mode": {
    "name": "ipython",
    "version": 3
   },
   "file_extension": ".py",
   "mimetype": "text/x-python",
   "name": "python",
   "nbconvert_exporter": "python",
   "pygments_lexer": "ipython3",
   "version": "3.5.2"
  }
 },
 "nbformat": 4,
 "nbformat_minor": 2
}
